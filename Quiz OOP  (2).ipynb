{
 "cells": [
  {
   "cell_type": "markdown",
   "id": "1b7e756f-cdf2-4102-ae1e-fe8b43849c66",
   "metadata": {
    "tags": []
   },
   "source": [
    "# I need a Game for Car \n",
    "\n",
    "when i input start print \"I'm ready to go \"\n",
    "\n",
    "when i input stop print \"Car stop\"\n",
    "\n",
    "when i input Quit stop the game \n",
    "\n",
    "and add help to help him in this choise if he didn't know --> like a massage to till him"
   ]
  },
  {
   "cell_type": "code",
   "execution_count": 1,
   "id": "63f4576d-ed25-4fb9-832a-399567f38269",
   "metadata": {},
   "outputs": [],
   "source": [
    "import random"
   ]
  },
  {
   "cell_type": "code",
   "execution_count": 28,
   "id": "9b7f388f-f528-408a-b201-702f85824e76",
   "metadata": {},
   "outputs": [],
   "source": [
    "class game():\n",
    "    input(\"chois car or multi\")\n",
    "    def car(self, start,stop,quit):\n",
    "        self.start=start\n",
    "        self.stop=stop\n",
    "        self.quit=quit\n",
    "    def start(self):\n",
    "        print(\"I'm ready to go \",self.start)\n",
    "    def stop(self):\n",
    "        print(\"Car stop \",self.stop)\n",
    "    def quit(self):\n",
    "        print(\"finish \"self.quit)\n",
    "    @staticmethod    \n",
    "    def opreation(num):\n",
    "        n=int(input(\"enter number\"))\n",
    "        for i in range(1,11):\n",
    "            return i*n\n",
    "    @staticmethod    \n",
    "    def gamee():\n",
    "        user_action = input(\"Enter a choice (rock, paper, scissors): \")\n",
    "        possible_actions = [\"rock\", \"paper\", \"scissors\"]\n",
    "        computer_action = random.choice(possible_actions)\n",
    "        if user_action == computer_action:\n",
    "            print(\"It's a tie!\")\n",
    "        elif user_action == \"rock\":\n",
    "        if computer_action == \"scissors\":\n",
    "            print(\"You win!\")\n",
    "        else:\n",
    "            print(\"You lose.\")\n",
    "        elif user_action == \"paper\":\n",
    "        if computer_action == \"rock\":\n",
    "            print(\"You win!\")\n",
    "        else:\n",
    "        print(\" You lose.\")\n",
    "        elif user_action == \"scissors\":\n",
    "        if computer_action == \"paper\":\n",
    "            print(\"You win!\")\n",
    "        else:\n",
    "            print(\"You lose.\")\n",
    "        \n",
    "   \n"
   ]
  },
  {
   "cell_type": "code",
   "execution_count": null,
   "id": "7351790d-e194-42a3-b2c6-acd84a3da816",
   "metadata": {},
   "outputs": [],
   "source": []
  },
  {
   "cell_type": "markdown",
   "id": "66397f40-91a5-4c2b-a612-094a6732e697",
   "metadata": {
    "tags": []
   },
   "source": [
    "# I need math game \n",
    "\n",
    "when i choise any number give my the maltiplcation of it like \n",
    "\n",
    "1*1=1\n",
    "\n",
    "1*2=2\n",
    "\n",
    "1*3=3\n",
    "\n",
    "so on ..."
   ]
  },
  {
   "cell_type": "code",
   "execution_count": null,
   "id": "a51e81f5-66bb-4bae-a5d7-e240c8ac710c",
   "metadata": {},
   "outputs": [],
   "source": [
    "# To help you i need a clas"
   ]
  }
 ],
 "metadata": {
  "kernelspec": {
   "display_name": "Python 3 (ipykernel)",
   "language": "python",
   "name": "python3"
  },
  "language_info": {
   "codemirror_mode": {
    "name": "ipython",
    "version": 3
   },
   "file_extension": ".py",
   "mimetype": "text/x-python",
   "name": "python",
   "nbconvert_exporter": "python",
   "pygments_lexer": "ipython3",
   "version": "3.9.12"
  }
 },
 "nbformat": 4,
 "nbformat_minor": 5
}
